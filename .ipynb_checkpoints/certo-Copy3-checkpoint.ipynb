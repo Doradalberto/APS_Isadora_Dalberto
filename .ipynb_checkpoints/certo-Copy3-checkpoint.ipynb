{
 "cells": [
  {
   "cell_type": "markdown",
   "metadata": {},
   "source": [
    "# Projeto 1 - Ciência dos Dados"
   ]
  },
  {
   "cell_type": "markdown",
   "metadata": {},
   "source": [
    "Nome: Isadora Stigliani Dalberto"
   ]
  },
  {
   "cell_type": "markdown",
   "metadata": {},
   "source": [
    "**GitHub:** https://github.com/Doradalberto/APS_Isadora_Dalberto"
   ]
  },
  {
   "cell_type": "markdown",
   "metadata": {},
   "source": [
    "**Base de Dados:** https://www.gapminder.org/data/documentation/gd004/ &\n",
    "                   https://data.worldbank.org/indicator/NY.GDP.MKTP.KD"
   ]
  },
  {
   "cell_type": "markdown",
   "metadata": {},
   "source": [
    "## Pergunta(s):"
   ]
  },
  {
   "cell_type": "markdown",
   "metadata": {},
   "source": [
    "Os países que entraram no SADC (Comunidade para o Desenvolvimento da África Austral) em 1992 tiveram um aumento no seu PIB superior aos países da África que não entraram? Além do PIB, a expectativa de vida também aumentou proporcionalmente ao PIB?\n",
    "\n",
    "**Anos de interesse:**\n",
    "\n",
    ">de 1971 até 1991 - 20 anos antes de existir o SADC\n",
    " \n",
    ">de 1992 até 2010 - 20 anos após o SADC existir"
   ]
  },
  {
   "cell_type": "markdown",
   "metadata": {},
   "source": [
    "## Hipótese:"
   ]
  },
  {
   "cell_type": "markdown",
   "metadata": {},
   "source": [
    "Os países que entraram na SADC tiveram seu PIB elevado pois, por ser uma organização que visa o crescimento econômico dos países participantes, há uma maior exportação e melhoria na economia do país como um todo.** -- OLHAR DENOVO ESSA HIPOTESE!"
   ]
  },
  {
   "cell_type": "code",
   "execution_count": 22,
   "metadata": {},
   "outputs": [],
   "source": [
    "%matplotlib inline\n",
    "import pandas as pd\n",
    "import numpy as np\n",
    "import math as math\n",
    "from scipy import stats\n",
    "import matplotlib.pyplot as plt\n",
    "import seaborn as sns"
   ]
  },
  {
   "cell_type": "code",
   "execution_count": 2,
   "metadata": {},
   "outputs": [
    {
     "name": "stdout",
     "output_type": "stream",
     "text": [
      "Esperamos trabalhar no diretório\n",
      "C:\\Users\\dorad\\OneDrive\\Documentos\\Insper\\2 Semestre\\2.CienDados\\Projeto1\\APS_Isadora_Dalberto\n"
     ]
    }
   ],
   "source": [
    "import os\n",
    "print('Esperamos trabalhar no diretório')\n",
    "print(os.getcwd())"
   ]
  },
  {
   "cell_type": "markdown",
   "metadata": {},
   "source": [
    "**Formatação para deixar os gráficos grandes**"
   ]
  },
  {
   "cell_type": "code",
   "execution_count": 83,
   "metadata": {},
   "outputs": [],
   "source": [
    "plt.rcParams[\"figure.figsize\"] = [16,9]\n",
    "plt.rcParams[\"axes.titlesize\"] = 25\n",
    "plt.rcParams[\"xtick.labelsize\"] = 15\n",
    "plt.rcParams[\"ytick.labelsize\"] = 15\n",
    "plt.rcParams[\"axes.labelsize\"] = 17\n",
    "plt.rcParams[\"lines.markersize\"] = 15"
   ]
  },
  {
   "cell_type": "markdown",
   "metadata": {},
   "source": [
    "**Lê os arquivos que vamos utilizar no projeto:**"
   ]
  },
  {
   "cell_type": "code",
   "execution_count": 4,
   "metadata": {},
   "outputs": [],
   "source": [
    "dados = pd.read_excel('total_gdp_us_inflation_adjusted.xlsx')"
   ]
  },
  {
   "cell_type": "code",
   "execution_count": 5,
   "metadata": {},
   "outputs": [],
   "source": [
    "vida = pd.read_excel('life_expectancy_years.xlsx')"
   ]
  },
  {
   "cell_type": "markdown",
   "metadata": {},
   "source": [
    "**Altera o índice das tabelas:**"
   ]
  },
  {
   "cell_type": "code",
   "execution_count": 6,
   "metadata": {},
   "outputs": [],
   "source": [
    "dados_indice = dados.set_index(\"country\")\n",
    "vida_indice = vida.set_index(\"country\")"
   ]
  },
  {
   "cell_type": "markdown",
   "metadata": {},
   "source": [
    "**Países pertencentes ao Bloco SADC (áfrica austral):**"
   ]
  },
  {
   "cell_type": "code",
   "execution_count": 7,
   "metadata": {},
   "outputs": [],
   "source": [
    "af_aus = [\"Angola\", \"South Africa\", \"Botswana\", \"Congo, Dem. Rep.\", \"Lesotho\", \"Madagascar\", \"Malawi\", \"Mauritius\", \"Mozambique\", \"Namibia\", \"Swaziland\", \"Tanzania\", \"Zambia\", \"Zimbabwe\"]"
   ]
  },
  {
   "cell_type": "markdown",
   "metadata": {},
   "source": [
    "**Paises da áfrica que não pertencem ao Bloco SADC:**"
   ]
  },
  {
   "cell_type": "code",
   "execution_count": 8,
   "metadata": {},
   "outputs": [],
   "source": [
    "af_nao_aus = [\"Benin\", \"Burkina Faso\", \"Burundi\", \"Cameroon\", \"Cape Verde\", \"Central African Republic\", \"Chad\", \"Congo, Rep.\", \"Djibouti\", \"Eritrea\", \"Ethiopia\", \"Gabon\", \"Gambia\", \"Ghana\", \"Guinea\", \"Guinea-Bissau\", \"Liberia\", \"Mali\", \"Niger\", \"Nigeria\", \"Rwanda\", \"Senegal\", \"Seychelles\", \"Sierra Leone\", \"Sudan\", \"Togo\", \"Uganda\" ]"
   ]
  },
  {
   "cell_type": "markdown",
   "metadata": {},
   "source": [
    "**Listas de Anos**"
   ]
  },
  {
   "cell_type": "code",
   "execution_count": 9,
   "metadata": {},
   "outputs": [],
   "source": [
    "anos = [1971, 1972,1973, 1974, 1975, 1976, 1977, 1978, 1979, 1980, 1981, 1982, 1983, 1984, 1985, 1986, 1987, 1988, 1989, 1990, 1991, 1992, 1993, 1994, 1995, 1996, 1997, 1998, 1999, 2000, 2001, 2002, 2003, 2004, 2005, 2006, 2007, 2008, 2009, 2010, 2011, 2012]\n",
    "anos_1 = [1971, 1972,1973, 1974, 1975, 1976, 1977, 1978, 1979, 1980, 1981, 1982, 1983, 1984, 1985, 1986, 1987, 1988, 1989, 1990, 1991]\n",
    "anos_2 = [1992, 1993, 1994, 1995, 1996, 1997, 1998, 1999, 2000, 2001, 2002, 2003, 2004, 2005, 2006, 2007, 2008, 2009, 2010, 2011, 2012]"
   ]
  },
  {
   "cell_type": "markdown",
   "metadata": {},
   "source": [
    "**Criação da Coluna AF_AUS e AF_NAO_AUS**"
   ]
  },
  {
   "cell_type": "code",
   "execution_count": 10,
   "metadata": {},
   "outputs": [],
   "source": [
    "dados_indice.loc[:, \"AF_AUS\"] = 0      #criar uma coluna chamada AF_AUS e falar que todos os países são 0\n",
    "dados_indice.loc[af_aus,\"AF_AUS\"]=1    #falar que todos os países da lista af_aus recebem o valor de 1 na coluna AF_AUS\n",
    "\n",
    "dados_indice.loc[:, \"AF_NAO_AUS\"] = 0     #criar uma coluna chamada AF_NAO_AUS e falar que todos os países são 0\n",
    "dados_indice.loc[af_nao_aus,\"AF_NAO_AUS\"]=1   #falar que todos os países da lista af_nao_aus recebem o valor de 1 na coluna AF_NAO_AUS\n",
    "\n",
    "vida_indice.loc[:, \"AF_AUS\"] = 0\n",
    "vida_indice.loc[af_aus,\"AF_AUS\"]=1\n",
    "\n",
    "vida_indice.loc[:, \"AF_NAO_AUS\"] = 0\n",
    "vida_indice.loc[af_nao_aus,\"AF_NAO_AUS\"]=1"
   ]
  },
  {
   "cell_type": "markdown",
   "metadata": {},
   "source": [
    "**Loc selecionando os países**"
   ]
  },
  {
   "cell_type": "code",
   "execution_count": 11,
   "metadata": {
    "scrolled": true
   },
   "outputs": [],
   "source": [
    "dados_af_aus = dados_indice.loc[af_aus]     #PIB de todos os paises que sao do SADC\n",
    "\n",
    "dados_af_nao_aus = dados_indice.loc[af_nao_aus]     #PIB de todos os paises que sao da africa mas nao sao da SADC\n",
    "\n",
    "vida_af_aus = vida_indice.loc[af_aus]     #ExpVida de todos os paises que sao do SADC\n",
    "\n",
    "vida_af_nao_aus = vida_indice.loc[af_nao_aus]     #ExpVida de todos os paises que sao da africa mas nao sao da SADC\n",
    "\n",
    "africa = af_aus + af_nao_aus     #definição do que é africa = soma das duas listas\n",
    "\n",
    "dados_africa = dados_indice.loc[africa]     #PIB de todos os paises da áfrica\n",
    "\n",
    "vida_africa = vida_indice.loc[africa]     #ExpVida de todos os paises da áfrica"
   ]
  },
  {
   "cell_type": "markdown",
   "metadata": {},
   "source": [
    "**Retirando as duas ultimas colunas (AF_AUS e AF_NAO_AUS) + Seleção de Ano**"
   ]
  },
  {
   "cell_type": "code",
   "execution_count": 12,
   "metadata": {},
   "outputs": [],
   "source": [
    "transpor_aus = dados_af_aus.transpose()\n",
    "transpor_quant_aus = transpor_aus[:-2]\n",
    "\n",
    "aus_anos1 = transpor_quant_aus.loc[(transpor_quant_aus.index>1970) & (transpor_quant_aus.index<1992),:].transpose()\n",
    "soma_aus_anos1 = aus_anos1.sum() #soma POR ANO\n",
    "\n",
    "aus_anos2 = transpor_quant_aus.loc[(transpor_quant_aus.index>1991) & (transpor_quant_aus.index<2013),:].transpose()\n",
    "soma_aus_anos2 = aus_anos2.sum() #soma POR ANO\n",
    "\n",
    "aus_anos_total = transpor_quant_aus.loc[(transpor_quant_aus.index>1970) & (transpor_quant_aus.index<2013),:].transpose()\n",
    "soma_aus_anos_total = aus_anos_total.sum()"
   ]
  },
  {
   "cell_type": "code",
   "execution_count": 13,
   "metadata": {},
   "outputs": [],
   "source": [
    "transpor_nao_aus = dados_af_nao_aus.transpose()\n",
    "transpor_quant_nao_aus = transpor_nao_aus[:-2]\n",
    "\n",
    "nao_aus_anos1 = transpor_quant_nao_aus.loc[(transpor_quant_nao_aus.index>1970) & (transpor_quant_nao_aus.index<1992),:].transpose()\n",
    "soma_nao_aus_anos1 = nao_aus_anos1.sum()\n",
    "\n",
    "nao_aus_anos2 = transpor_quant_nao_aus.loc[(transpor_quant_nao_aus.index>1991) & (transpor_quant_nao_aus.index<2013),:].transpose()\n",
    "soma_nao_aus_anos2 = nao_aus_anos2.sum()\n",
    "\n",
    "nao_aus_anos_total = transpor_quant_nao_aus.loc[(transpor_quant_nao_aus.index>1970) & (transpor_quant_nao_aus.index<2013),:].transpose()\n",
    "soma_nao_aus_anos_total = nao_aus_anos_total.sum()"
   ]
  },
  {
   "cell_type": "code",
   "execution_count": 14,
   "metadata": {},
   "outputs": [],
   "source": [
    "transpor = dados_africa.transpose()\n",
    "transpor_quant = transpor[:-2]\n",
    "\n",
    "africa_anos1 = transpor_quant.loc[(transpor_quant.index>1970) & (transpor_quant.index<1992),:].transpose()\n",
    "soma_africa_anos1 = africa_anos1.sum()\n",
    "\n",
    "africa_anos2 = transpor_quant.loc[(transpor_quant.index>1991) & (transpor_quant.index<2013),:].transpose()\n",
    "soma_africa_anos2 = africa_anos2.sum()\n",
    "\n",
    "africa_anos_total = transpor_quant.loc[(transpor_quant.index>1970) & (transpor_quant.index<2013),:].transpose()\n",
    "soma_africa_anos_total = africa_anos_total.sum()"
   ]
  },
  {
   "cell_type": "markdown",
   "metadata": {},
   "source": [
    "**Colocando denovo as colunas AF_AUS e AF_NAO_AUS**"
   ]
  },
  {
   "cell_type": "code",
   "execution_count": 15,
   "metadata": {
    "scrolled": false
   },
   "outputs": [],
   "source": [
    "africa_anos_total.loc[:, \"AF_AUS\"] = 0\n",
    "africa_anos_total.loc[af_aus,\"AF_AUS\"]=1\n",
    "\n",
    "africa_anos_total.loc[:, \"AF_NAO_AUS\"] = 0\n",
    "africa_anos_total.loc[af_nao_aus,\"AF_NAO_AUS\"]=1\n",
    "\n",
    "#africa_anos_total  #Imprime todos os paises da África no período de tempo selecionado e indica quais\n",
    "#                   sao da SADC e quais não são"
   ]
  },
  {
   "cell_type": "markdown",
   "metadata": {},
   "source": [
    "**Gráfico do PIB x Tempo em todo o período de tempo estudado**"
   ]
  },
  {
   "cell_type": "markdown",
   "metadata": {},
   "source": [
    "# colocar o eixo y em log"
   ]
  },
  {
   "cell_type": "code",
   "execution_count": 80,
   "metadata": {},
   "outputs": [
    {
     "data": {
      "text/plain": [
       "1971    26.579701\n",
       "1972    26.602759\n",
       "1973    26.646369\n",
       "1974    26.721721\n",
       "1975    26.720633\n",
       "1976    26.771304\n",
       "1977    26.792321\n",
       "1978    26.783505\n",
       "1979    26.824177\n",
       "1980    26.926983\n",
       "1981    26.937286\n",
       "1982    26.947464\n",
       "1983    26.934867\n",
       "1984    26.960207\n",
       "1985    26.981359\n",
       "1986    26.978536\n",
       "1987    26.974786\n",
       "1988    27.037761\n",
       "1989    27.071009\n",
       "1990    27.093644\n",
       "1991    27.095055\n",
       "1992    27.083016\n",
       "1993    27.083984\n",
       "1994    27.103700\n",
       "1995    27.133375\n",
       "1996    27.184462\n",
       "1997    27.218944\n",
       "1998    27.240627\n",
       "1999    27.261129\n",
       "2000    27.298379\n",
       "2001    27.334948\n",
       "2002    27.374959\n",
       "2003    27.423740\n",
       "2004    27.536976\n",
       "2005    27.591536\n",
       "2006    27.659479\n",
       "2007    27.728449\n",
       "2008    27.782266\n",
       "2009    27.810138\n",
       "2010    27.865771\n",
       "2011    27.910031\n",
       "2012    27.948715\n",
       "dtype: float64"
      ]
     },
     "execution_count": 80,
     "metadata": {},
     "output_type": "execute_result"
    }
   ],
   "source": [
    "np.log(soma_africa_anos_total)"
   ]
  },
  {
   "cell_type": "code",
   "execution_count": 85,
   "metadata": {},
   "outputs": [
    {
     "data": {
      "image/png": "[encoded data removed]",
      "text/plain": [
       "<Figure size 1152x648 with 1 Axes>"
      ]
     },
     "metadata": {
      "needs_background": "light"
     },
     "output_type": "display_data"
    }
   ],
   "source": [
    "plt.plot(anos, np.log(soma_africa_anos_total), label=\"África\")\n",
    "plt.plot(anos, np.log(soma_aus_anos_total), label=\"SADC\")\n",
    "plt.plot(anos, np.log(soma_nao_aus_anos_total), label=\"NÃO SADC\")\n",
    "plt.xlabel(\"Anos\")\n",
    "plt.ylabel(\"log PIB\")\n",
    "plt.title(\"PIB de 1971 até 2012\")\n",
    "plt.legend()\n",
    "plt.show()"
   ]
  },
  {
   "cell_type": "markdown",
   "metadata": {},
   "source": [
    "**Gráfico PIB Médio em todo período de tempo estudado**"
   ]
  },
  {
   "cell_type": "code",
   "execution_count": 17,
   "metadata": {
    "scrolled": false
   },
   "outputs": [
    {
     "data": {
      "image/png": "[encoded data removed]",
      "text/plain": [
       "<Figure size 1152x648 with 1 Axes>"
      ]
     },
     "metadata": {
      "needs_background": "light"
     },
     "output_type": "display_data"
    }
   ],
   "source": [
    "plt.plot(anos, soma_africa_anos_total/41, label=\"África\")\n",
    "plt.plot(anos, soma_aus_anos_total/14, label=\"SADC\" )\n",
    "plt.plot(anos, soma_nao_aus_anos_total/27, label=\"NÃO SADC\")\n",
    "plt.xlabel(\"anos\")\n",
    "plt.ylabel(\"PIB\")\n",
    "plt.title(\"PIB MÉDIO de 1971 até 2012\")\n",
    "plt.legend()\n",
    "plt.show()"
   ]
  },
  {
   "cell_type": "markdown",
   "metadata": {},
   "source": [
    ">> **Análise do Gráfico:** Como é percebido, os países pertencentes ao SADC possuem um PIB por país superior aos outros países da África."
   ]
  },
  {
   "cell_type": "markdown",
   "metadata": {},
   "source": [
    "**Retirada dos NaN**"
   ]
  },
  {
   "cell_type": "code",
   "execution_count": 18,
   "metadata": {},
   "outputs": [],
   "source": [
    "dados_af_nao_aus_retirada = dados_af_nao_aus.dropna()\n",
    "dados_af_aus_retirada = dados_af_aus.dropna()\n",
    "vida_af_nao_aus_retirada = vida_af_nao_aus.dropna()\n",
    "vida_af_aus_retirada = vida_af_nao_aus.dropna()"
   ]
  },
  {
   "cell_type": "markdown",
   "metadata": {},
   "source": [
    "## Dúvida nisso"
   ]
  },
  {
   "cell_type": "code",
   "execution_count": 68,
   "metadata": {},
   "outputs": [
    {
     "data": {
      "text/plain": [
       "country\n",
       "Benin                       61.8\n",
       "Burkina Faso                57.9\n",
       "Burundi                     57.7\n",
       "Cameroon                    57.3\n",
       "Cape Verde                  72.5\n",
       "Central African Republic    47.5\n",
       "Chad                        56.5\n",
       "Congo, Rep.                 60.4\n",
       "Djibouti                    63.7\n",
       "Eritrea                     61.7\n",
       "Ethiopia                    61.3\n",
       "Gabon                       62.9\n",
       "Gambia                      65.5\n",
       "Ghana                       62.2\n",
       "Guinea                      58.0\n",
       "Guinea-Bissau               55.6\n",
       "Liberia                     60.8\n",
       "Mali                        59.5\n",
       "Niger                       58.8\n",
       "Nigeria                     60.5\n",
       "Rwanda                      64.6\n",
       "Senegal                     64.0\n",
       "Seychelles                  73.4\n",
       "Sierra Leone                55.0\n",
       "Sudan                       66.3\n",
       "Togo                        58.7\n",
       "Uganda                      56.8\n",
       "Name: ExpVida 2010, dtype: float64"
      ]
     },
     "execution_count": 68,
     "metadata": {},
     "output_type": "execute_result"
    }
   ],
   "source": [
    "af_aus_1972 = dados_af_aus_retirada[1972]\n",
    "af_nao_aus_1972 = dados_af_nao_aus_retirada[1972]\n",
    "af_aus_2010 = dados_af_aus_retirada[2010]\n",
    "af_nao_aus_2010 = dados_af_nao_aus_retirada[2010]\n",
    "vida_af_aus_2010 = vida_af_aus_retirada[2010]\n",
    "vida_af_nao_aus_2010 = vida_af_nao_aus_retirada[2010]\n",
    "vida_af_aus_1972 = vida_af_aus_retirada[1972]\n",
    "vida_af_nao_aus_1972 = vida_af_nao_aus_retirada[1972]\n",
    "\n",
    "af_aus_1972.rename(\"PIB 1972\", inplace=True)\n",
    "af_nao_aus_1972.rename(\"PIB 1972\", inplace=True)\n",
    "af_aus_2010.rename(\"PIB 2010\", inplace=True)\n",
    "af_nao_aus_2010.rename(\"PIB 2010\", inplace=True)\n",
    "vida_af_aus_2010.rename(\"ExpVida 2010\", inplace=True)\n",
    "vida_af_nao_aus_2010.rename(\"ExpVida 2010\", inplace=True)\n",
    "vida_af_aus_1972.rename(\"ExpVida 1972\", inplace=True)\n",
    "vida_af_nao_aus_1972.rename(\"ExpVida 1972\", inplace=True)\n",
    "\n",
    "vida_af_nao_aus_2010"
   ]
  },
  {
   "cell_type": "code",
   "execution_count": 73,
   "metadata": {
    "scrolled": false
   },
   "outputs": [
    {
     "name": "stderr",
     "output_type": "stream",
     "text": [
      "C:\\Users\\dorad\\AppData\\Local\\Continuum\\anaconda3\\lib\\site-packages\\ipykernel_launcher.py:1: FutureWarning: Sorting because non-concatenation axis is not aligned. A future version\n",
      "of pandas will change to not sort by default.\n",
      "\n",
      "To accept the future behavior, pass 'sort=False'.\n",
      "\n",
      "To retain the current behavior and silence the warning, pass 'sort=True'.\n",
      "\n",
      "  \"\"\"Entry point for launching an IPython kernel.\n",
      "C:\\Users\\dorad\\AppData\\Local\\Continuum\\anaconda3\\lib\\site-packages\\ipykernel_launcher.py:2: FutureWarning: Sorting because non-concatenation axis is not aligned. A future version\n",
      "of pandas will change to not sort by default.\n",
      "\n",
      "To accept the future behavior, pass 'sort=False'.\n",
      "\n",
      "To retain the current behavior and silence the warning, pass 'sort=True'.\n",
      "\n",
      "  \n",
      "C:\\Users\\dorad\\AppData\\Local\\Continuum\\anaconda3\\lib\\site-packages\\ipykernel_launcher.py:4: FutureWarning: Sorting because non-concatenation axis is not aligned. A future version\n",
      "of pandas will change to not sort by default.\n",
      "\n",
      "To accept the future behavior, pass 'sort=False'.\n",
      "\n",
      "To retain the current behavior and silence the warning, pass 'sort=True'.\n",
      "\n",
      "  after removing the cwd from sys.path.\n",
      "C:\\Users\\dorad\\AppData\\Local\\Continuum\\anaconda3\\lib\\site-packages\\ipykernel_launcher.py:5: FutureWarning: Sorting because non-concatenation axis is not aligned. A future version\n",
      "of pandas will change to not sort by default.\n",
      "\n",
      "To accept the future behavior, pass 'sort=False'.\n",
      "\n",
      "To retain the current behavior and silence the warning, pass 'sort=True'.\n",
      "\n",
      "  \"\"\"\n",
      "C:\\Users\\dorad\\AppData\\Local\\Continuum\\anaconda3\\lib\\site-packages\\ipykernel_launcher.py:7: FutureWarning: Sorting because non-concatenation axis is not aligned. A future version\n",
      "of pandas will change to not sort by default.\n",
      "\n",
      "To accept the future behavior, pass 'sort=False'.\n",
      "\n",
      "To retain the current behavior and silence the warning, pass 'sort=True'.\n",
      "\n",
      "  import sys\n",
      "C:\\Users\\dorad\\AppData\\Local\\Continuum\\anaconda3\\lib\\site-packages\\ipykernel_launcher.py:8: FutureWarning: Sorting because non-concatenation axis is not aligned. A future version\n",
      "of pandas will change to not sort by default.\n",
      "\n",
      "To accept the future behavior, pass 'sort=False'.\n",
      "\n",
      "To retain the current behavior and silence the warning, pass 'sort=True'.\n",
      "\n",
      "  \n"
     ]
    }
   ],
   "source": [
    "comp_2010_af_nao_aus = pd.concat([af_nao_aus_2010, vida_af_nao_aus_2010], axis=1)\n",
    "comp_1972_af_nao_aus = pd.concat([af_nao_aus_1972, vida_af_nao_aus_1972], axis=1)\n",
    "\n",
    "comp_2010_af_aus = pd.concat([af_aus_2010, vida_af_aus_2010], axis=1) #dropna buga\n",
    "comp_1972_af_aus = pd.concat([af_aus_1972, vida_af_aus_1972], axis=1) ########### dropna buga\n",
    "\n",
    "comp_1972_all = pd.concat([comp_1972_af_aus, comp_1972_af_nao_aus], axis=1) ## dropna buga\n",
    "comp_2010_all = pd.concat([comp_2010_af_aus, comp_2010_af_nao_aus], axis=1) #3 colunas"
   ]
  },
  {
   "cell_type": "markdown",
   "metadata": {},
   "source": [
    "**Gráfico Expectativa de Vida x PIB 1990**"
   ]
  },
  {
   "cell_type": "markdown",
   "metadata": {},
   "source": [
    "# Adicionar SADC e Nao SADC no mesmo gráfico"
   ]
  },
  {
   "cell_type": "markdown",
   "metadata": {},
   "source": [
    "# Fazer 1 gráfico com as 2 comparação de anos? \n",
    "(4 cores no mesmo gráfico )??\n",
    "    Af aus 1990, af nao aus 1990, af aus 2010, af nao aus 2010 "
   ]
  },
  {
   "cell_type": "code",
   "execution_count": 44,
   "metadata": {},
   "outputs": [
    {
     "data": {
      "image/png": "[encoded data removed]",
      "text/plain": [
       "<Figure size 432x288 with 1 Axes>"
      ]
     },
     "metadata": {
      "needs_background": "light"
     },
     "output_type": "display_data"
    },
    {
     "data": {
      "image/png": "[encoded data removed]",
      "text/plain": [
       "<Figure size 432x288 with 1 Axes>"
      ]
     },
     "metadata": {
      "needs_background": "light"
     },
     "output_type": "display_data"
    }
   ],
   "source": [
    "comp_1972_af_nao_aus.plot.scatter(x=\"PIB 1972\", y=\"ExpVida 1972\", logx=True, label=\"Nao SADC\", color=\"b\")\n",
    "comp_2010_af_nao_aus.plot.scatter(x=\"PIB 2010\", y=\"ExpVida 2010\", logx=True, label=\"NaoSADC\", color=\"b\")\n",
    "plt.show()"
   ]
  },
  {
   "cell_type": "markdown",
   "metadata": {},
   "source": [
    "**Gráfico Disperção média - erro 2010**"
   ]
  },
  {
   "cell_type": "code",
   "execution_count": 79,
   "metadata": {},
   "outputs": [
    {
     "name": "stdout",
     "output_type": "stream",
     "text": [
      "Ajuste linear entre X3 e X4:\n",
      "Coeficiente linear: 48.61894027002943\n",
      "Coeficiente angular: 3.8850981557887665e-11\n",
      "Ajuste linear entre X3 e X4:\n",
      "Coeficiente linear: 53.50776313525494\n",
      "Coeficiente angular: 2.847612972381479e-11\n"
     ]
    },
    {
     "data": {
      "image/png": "[encoded data removed]",
      "text/plain": [
       "<Figure size 432x288 with 1 Axes>"
      ]
     },
     "metadata": {
      "needs_background": "light"
     },
     "output_type": "display_data"
    }
   ],
   "source": [
    "def reta(dados_x, dados_y, c):    \n",
    "    a = dados_y.cov(dados_x) / dados_x.var()\n",
    "    b = dados_y.mean() - a*dados_x.mean()\n",
    "\n",
    "    print('Ajuste linear entre X3 e X4:')\n",
    "    print('Coeficiente linear:', b)\n",
    "    print('Coeficiente angular:', a)\n",
    "    plt.scatter(dados_x, dados_y, c=c, alpha=0.8)\n",
    "    plt.title('1972')\n",
    "    plt.xlabel('PIB')\n",
    "    plt.ylabel('Expectativa de Vida')\n",
    "\n",
    "    plt.plot((dados_x.min(), dados_x.max()), (a*dados_x.min()+b, a*dados_x.max()+b), color=c)\n",
    "\n",
    "    plt.tight_layout()\n",
    "\n",
    "af_nao_aus_1972_2 = dados_af_nao_aus[1972]\n",
    "vida_af_nao_aus_1972_2 = vida_af_nao_aus[1972]\n",
    "af_aus_1972_2 = dados_af_aus[1972]\n",
    "vida_af_aus_1972_2 = vida_af_aus[1972]\n",
    "\n",
    "#af_aus_2010_2 = af_aus_2010[2010]\n",
    "\n",
    "\n",
    "plt.scatter(af_nao_aus_1972_2, vida_af_nao_aus_1972_2, color=\"b\", label=\"Não SADC\")\n",
    "reta(af_nao_aus_1972_2, vida_af_nao_aus_1972_2, \"b\")\n",
    "plt.scatter(af_aus_1972_2, vida_af_aus_1972_2, color=\"r\", label=\"SADC 1972\")\n",
    "reta(af_aus_1972_2, vida_af_aus_1972_2, \"r\")\n",
    "\n",
    "#plt.scatter(af_aus_2010_2, vida_af_aus_2010_2, color=\"r\", label=\"SADC 2010\")\n",
    "#reta(af_aus_2010_2, vida_af_aus_2010_2, \"green\")\n",
    "#plt.legend()"
   ]
  },
  {
   "cell_type": "code",
   "execution_count": 77,
   "metadata": {},
   "outputs": [
    {
     "data": {
      "text/plain": [
       "country\n",
       "Angola              49.2\n",
       "South Africa        57.9\n",
       "Botswana            57.7\n",
       "Congo, Dem. Rep.    50.8\n",
       "Lesotho             56.1\n",
       "Madagascar          51.8\n",
       "Malawi              44.7\n",
       "Mauritius           61.9\n",
       "Mozambique          48.1\n",
       "Namibia             58.7\n",
       "Swaziland           52.8\n",
       "Tanzania            53.1\n",
       "Zambia              56.5\n",
       "Zimbabwe            58.3\n",
       "Name: 1972, dtype: float64"
      ]
     },
     "execution_count": 77,
     "metadata": {},
     "output_type": "execute_result"
    }
   ],
   "source": [
    "vida_af_aus_1972_2"
   ]
  },
  {
   "cell_type": "code",
   "execution_count": null,
   "metadata": {},
   "outputs": [],
   "source": [
    "af_aus_1972 = dados_af_aus_retirada[1990]\n",
    "af_aus_1972_sem_africa_sul = af_aus_1972.drop(labels = ['South Africa']) \n",
    "sem_africa = aus_anos_total.drop(labels=[\"South Africa\"])"
   ]
  },
  {
   "cell_type": "code",
   "execution_count": null,
   "metadata": {},
   "outputs": [],
   "source": [
    "aus_anos_total_t = aus_anos_total.T\n",
    "medias_aus_anos_total_t = aus_anos_total.mean()\n",
    "for pais in aus_anos_total_t.columns:\n",
    "    plt.scatter(x=aus_anos_total_t.index, y=aus_anos_total_t[pais])\n",
    "plt.plot(medias_aus_anos_total_t.index, medias_aus_anos_total_t, color=\"b\")\n",
    "plt.xlabel(\"anos\")\n",
    "plt.ylabel(\"pib\")\n",
    "plt.legend()"
   ]
  },
  {
   "cell_type": "code",
   "execution_count": null,
   "metadata": {
    "scrolled": false
   },
   "outputs": [],
   "source": [
    "#sem a africa do sul\n",
    "\n",
    "aus_anos_total_t = sem_africa.T\n",
    "medias_aus_anos_total_t = sem_africa.mean()\n",
    "for pais in aus_anos_total_t.columns:\n",
    "    plt.scatter(x=aus_anos_total_t.index, y=aus_anos_total_t[pais])\n",
    "plt.plot(medias_aus_anos_total_t.index, medias_aus_anos_total_t, color=\"b\")\n",
    "plt.xlabel(\"anos\")\n",
    "plt.ylabel(\"pib\")\n",
    "plt.legend()\n",
    "plt.plot()"
   ]
  },
  {
   "cell_type": "code",
   "execution_count": null,
   "metadata": {},
   "outputs": [],
   "source": [
    "sem_nigeria = nao_aus_anos_total.drop(labels=[\"Nigeria\",\"Cameroon\",\"Burundi\"])\n",
    "nao_aus_anos_total_t = sem_nigeria.T\n",
    "medias_nao_aus_anos_total_t = sem_nigeria.mean()\n",
    "for pais in nao_aus_anos_total_t.columns:\n",
    "    plt.scatter(x=nao_aus_anos_total_t.index, y=nao_aus_anos_total_t[pais])\n",
    "plt.plot(medias_nao_aus_anos_total_t.index, medias_nao_aus_anos_total_t, color=\"b\")\n",
    "plt.xlabel(\"anos\")\n",
    "plt.ylabel(\"pib\")\n",
    "plt.legend()\n",
    "plt.plot()"
   ]
  },
  {
   "cell_type": "code",
   "execution_count": null,
   "metadata": {
    "scrolled": false
   },
   "outputs": [],
   "source": [
    "comp_1972_af_nao_aus.plot.scatter(x=\"PIB 1990\", y=\"ExpVida 1990\", logy=True)\n",
    "sns.regplot(comp_1972_af_nao_aus['PIB 1990'], comp_1972_af_nao_aus['ExpVida 1990'])\n",
    "plt.show()"
   ]
  },
  {
   "cell_type": "markdown",
   "metadata": {},
   "source": [
    "## Conclusão"
   ]
  },
  {
   "cell_type": "markdown",
   "metadata": {},
   "source": [
    "Responda à pergunta, argumento da melhor forma possível com base nos dados"
   ]
  },
  {
   "cell_type": "markdown",
   "metadata": {},
   "source": [
    "> A ser respondida de acordo com a progressão do projeto!"
   ]
  }
 ],
 "metadata": {
  "kernelspec": {
   "display_name": "Python 3",
   "language": "python",
   "name": "python3"
  },
  "language_info": {
   "codemirror_mode": {
    "name": "ipython",
    "version": 3
   },
   "file_extension": ".py",
   "mimetype": "text/x-python",
   "name": "python",
   "nbconvert_exporter": "python",
   "pygments_lexer": "ipython3",
   "version": "3.7.1"
  }
 },
 "nbformat": 4,
 "nbformat_minor": 2
}
