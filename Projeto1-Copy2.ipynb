{
 "cells": [
  {
   "cell_type": "markdown",
   "metadata": {},
   "source": [
    "# Projeto 1 - Ciência dos Dados"
   ]
  },
  {
   "cell_type": "markdown",
   "metadata": {},
   "source": [
    "Nome: Isadora Stigliani Dalberto"
   ]
  },
  {
   "cell_type": "markdown",
   "metadata": {},
   "source": [
    "**Base de Dados:** https://www.gapminder.org/data/documentation/gd004/ &\n",
    "                   https://data.worldbank.org/indicator/NY.GDP.MKTP.KD"
   ]
  },
  {
   "cell_type": "markdown",
   "metadata": {},
   "source": [
    "## Pergunta(s):"
   ]
  },
  {
   "cell_type": "markdown",
   "metadata": {},
   "source": [
    "Os países que entraram no SADC (Comunidade para o Desenvolvimento da África Austral) em 1992 tiveram um aumento no seu PIB superior aos países da África que não entraram? Além do PIB, a expectativa de vida também aumentou proporcionalmente ao PIB?\n",
    "\n",
    "**Anos de interesse:**\n",
    "\n",
    ">de 1971 até 1991 - 20 anos antes de existir o SADC\n",
    " \n",
    ">de 1992 até 2010 - 20 anos após o SADC existir"
   ]
  },
  {
   "cell_type": "markdown",
   "metadata": {},
   "source": [
    "## Hipótese:"
   ]
  },
  {
   "cell_type": "markdown",
   "metadata": {},
   "source": [
    "Os países que entraram na SADC tiveram seu PIB elevado pois, por ser uma organização que visa o crescimento econômico dos países participantes, há uma maior exportação e melhoria na economia do país como um todo.** -- OLHAR DENOVO ESSA HIPOTESE!"
   ]
  },
  {
   "cell_type": "code",
   "execution_count": 1,
   "metadata": {},
   "outputs": [],
   "source": [
    "%matplotlib inline\n",
    "import pandas as pd\n",
    "import matplotlib.pyplot as plt\n",
    "import numpy as np"
   ]
  },
  {
   "cell_type": "code",
   "execution_count": 2,
   "metadata": {},
   "outputs": [
    {
     "name": "stdout",
     "output_type": "stream",
     "text": [
      "Esperamos trabalhar no diretório\n",
      "C:\\Users\\dorad\\OneDrive\\Documentos\\Insper\\2 Semestre\\2.CienDados\\Projeto1\n"
     ]
    }
   ],
   "source": [
    "import os\n",
    "print('Esperamos trabalhar no diretório')\n",
    "print(os.getcwd())"
   ]
  },
  {
   "cell_type": "markdown",
   "metadata": {},
   "source": [
    "Lê os arquivos que vamos utilizar no projeto:"
   ]
  },
  {
   "cell_type": "code",
   "execution_count": 3,
   "metadata": {},
   "outputs": [],
   "source": [
    "dados = pd.read_excel('total_gdp_us_inflation_adjusted.xlsx')"
   ]
  },
  {
   "cell_type": "code",
   "execution_count": 4,
   "metadata": {},
   "outputs": [],
   "source": [
    "vida = pd.read_excel('life_expectancy_years.xlsx')"
   ]
  },
  {
   "cell_type": "markdown",
   "metadata": {},
   "source": [
    "Altera o índice das tabelas:"
   ]
  },
  {
   "cell_type": "code",
   "execution_count": 5,
   "metadata": {},
   "outputs": [],
   "source": [
    "dados_indice = dados.set_index(\"country\")\n",
    "vida_indice = vida.set_index(\"country\")"
   ]
  },
  {
   "cell_type": "markdown",
   "metadata": {},
   "source": [
    "Países pertencentes ao Bloco SADC (áfrica austral):"
   ]
  },
  {
   "cell_type": "code",
   "execution_count": 6,
   "metadata": {},
   "outputs": [],
   "source": [
    "af_aus = [\"Angola\", \"South Africa\", \"Botswana\", \"Congo, Dem. Rep.\", \"Lesotho\", \"Madagascar\", \"Malawi\", \"Mauritius\", \"Mozambique\", \"Namibia\", \"Swaziland\", \"Tanzania\", \"Zambia\", \"Zimbabwe\"]"
   ]
  },
  {
   "cell_type": "markdown",
   "metadata": {},
   "source": [
    "Paises da áfrica que não pertencem ao Bloco SADC:"
   ]
  },
  {
   "cell_type": "code",
   "execution_count": 7,
   "metadata": {},
   "outputs": [],
   "source": [
    "af_nao_aus = [\"Benin\", \"Burkina Faso\", \"Burundi\", \"Cameroon\", \"Cape Verde\", \"Central African Republic\", \"Chad\", \"Congo, Rep.\", \"Djibouti\", \"Eritrea\", \"Ethiopia\", \"Gabon\", \"Gambia\", \"Ghana\", \"Guinea\", \"Guinea-Bissau\", \"Liberia\", \"Mali\", \"Niger\", \"Nigeria\", \"Rwanda\", \"Senegal\", \"Seychelles\", \"Sierra Leone\", \"Sudan\", \"Togo\", \"Uganda\" ]"
   ]
  },
  {
   "cell_type": "markdown",
   "metadata": {},
   "source": [
    "Lista total de Anos"
   ]
  },
  {
   "cell_type": "code",
   "execution_count": 8,
   "metadata": {},
   "outputs": [],
   "source": [
    "anos = [1971, 1972,1973, 1974, 1975, 1976, 1977, 1978, 1979, 1980, 1981, 1982, 1983, 1984, 1985, 1986, 1987, 1988, 1989, 1990, 1991, 1992, 1993, 1994, 1995, 1996, 1997, 1998, 1999, 2000, 2001, 2002, 2003, 2004, 2005, 2006, 2007, 2008, 2009, 2010, 2011, 2012]"
   ]
  },
  {
   "cell_type": "markdown",
   "metadata": {},
   "source": [
    "Lista da primeira metade"
   ]
  },
  {
   "cell_type": "code",
   "execution_count": 9,
   "metadata": {},
   "outputs": [],
   "source": [
    "anos_1 = [1971, 1972,1973, 1974, 1975, 1976, 1977, 1978, 1979, 1980, 1981, 1982, 1983, 1984, 1985, 1986, 1987, 1988, 1989, 1990, 1991]"
   ]
  },
  {
   "cell_type": "markdown",
   "metadata": {},
   "source": [
    "Lista da segunda metade"
   ]
  },
  {
   "cell_type": "code",
   "execution_count": 10,
   "metadata": {},
   "outputs": [],
   "source": [
    "anos_2 = [1992, 1993, 1994, 1995, 1996, 1997, 1998, 1999, 2000, 2001, 2002, 2003, 2004, 2005, 2006, 2007, 2008, 2009, 2010, 2011, 2012]"
   ]
  },
  {
   "cell_type": "code",
   "execution_count": 11,
   "metadata": {},
   "outputs": [],
   "source": [
    "dados_indice.loc[:, \"AF_AUS\"] = 0      #criar uma coluna chamada AF_AUS e falar que todos os países são 0\n",
    "dados_indice.loc[af_aus,\"AF_AUS\"]=1    #falar que todos os países da lista af_aus recebem o valor de 1 na coluna AF_AUS\n",
    "\n",
    "dados_indice.loc[:, \"AF_NAO_AUS\"] = 0     #criar uma coluna chamada AF_NAO_AUS e falar que todos os países são 0\n",
    "dados_indice.loc[af_nao_aus,\"AF_NAO_AUS\"]=1   #falar que todos os países da lista af_nao_aus recebem o valor de 1 na coluna AF_NAO_AUS\n",
    "\n",
    "vida_indice.loc[:, \"AF_AUS\"] = 0\n",
    "vida_indice.loc[af_aus,\"AF_AUS\"]=1\n",
    "\n",
    "vida_indice.loc[:, \"AF_NAO_AUS\"] = 0\n",
    "vida_indice.loc[af_nao_aus,\"AF_NAO_AUS\"]=1"
   ]
  },
  {
   "cell_type": "code",
   "execution_count": 12,
   "metadata": {
    "scrolled": true
   },
   "outputs": [],
   "source": [
    "dados_af_aus = dados_indice.loc[af_aus]\n",
    "     #imprime todos os paises que sao do SADC\n",
    "\n",
    "dados_af_nao_aus = dados_indice.loc[af_nao_aus]\n",
    "     #imprime todos os paises que sao da africa mas nao sao da SADC\n",
    "\n",
    "vida_af_aus = vida_indice.loc[af_aus]\n",
    "\n",
    "vida_af_nao_aus = vida_indice.loc[af_nao_aus]"
   ]
  },
  {
   "cell_type": "code",
   "execution_count": 19,
   "metadata": {},
   "outputs": [],
   "source": [
    "africa = af_aus + af_nao_aus\n",
    "dados_africa = dados_indice.loc[africa]"
   ]
  },
  {
   "cell_type": "code",
   "execution_count": 20,
   "metadata": {},
   "outputs": [],
   "source": [
    "transpor_aus = dados_af_aus.transpose()\n",
    "transpor_quant_aus = transpor_aus[:-2]\n",
    "\n",
    "aus_anos1 = transpor_quant_aus.loc[(transpor_quant_aus.index>1970) & (transpor_quant_aus.index<1992),:].transpose()\n",
    "soma_aus_anos1 = aus_anos1.sum()\n",
    "\n",
    "aus_anos2 = transpor_quant_aus.loc[(transpor_quant_aus.index>1991) & (transpor_quant_aus.index<2013),:].transpose()\n",
    "soma_aus_anos2 = aus_anos2.sum()\n",
    "\n",
    "aus_anos_total = transpor_quant_aus.loc[(transpor_quant_aus.index>1970) & (transpor_quant_aus.index<2013),:].transpose()\n",
    "soma_aus_anos_total = aus_anos_total.sum() ##\n",
    "\n",
    "soma_aus_total = soma_aus_anos1 + soma_aus_anos2"
   ]
  },
  {
   "cell_type": "code",
   "execution_count": 21,
   "metadata": {},
   "outputs": [],
   "source": [
    "transpor_nao_aus = dados_af_nao_aus.transpose()\n",
    "transpor_quant_nao_aus = transpor_nao_aus[:-2]\n",
    "\n",
    "nao_aus_anos1 = transpor_quant_nao_aus.loc[(transpor_quant_nao_aus.index>1970) & (transpor_quant_nao_aus.index<1992),:].transpose()\n",
    "soma_nao_aus_anos1 = nao_aus_anos1.sum()\n",
    "\n",
    "nao_aus_anos2 = transpor_quant_nao_aus.loc[(transpor_quant_nao_aus.index>1991) & (transpor_quant_nao_aus.index<2013),:].transpose()\n",
    "soma_nao_aus_anos2 = nao_aus_anos2.sum()\n",
    "\n",
    "nao_aus_anos_total = transpor_quant_nao_aus.loc[(transpor_quant_nao_aus.index>1970) & (transpor_quant_nao_aus.index<2013),:].transpose()\n",
    "soma_nao_aus_anos_total = nao_aus_anos_total.sum() ##\n",
    "\n",
    "soma_nao_aus_total = soma_nao_aus_anos1 + soma_nao_aus_anos2"
   ]
  },
  {
   "cell_type": "code",
   "execution_count": 24,
   "metadata": {},
   "outputs": [],
   "source": [
    "transpor = dados_africa.transpose()\n",
    "transpor_quant = transpor[:-2]\n",
    "\n",
    "africa_anos1 = transpor_quant.loc[(transpor_quant.index>1970) & (transpor_quant.index<1992),:].transpose()\n",
    "soma_africa_anos1 = africa_anos1.sum()\n",
    "\n",
    "africa_anos2 = transpor_quant.loc[(transpor_quant.index>1991) & (transpor_quant.index<2013),:].transpose()\n",
    "soma_africa_anos2 = africa_anos2.sum()\n",
    "\n",
    "africa_anos_total = transpor_quant.loc[(transpor_quant.index>1970) & (transpor_quant.index<2013),:].transpose()\n",
    "soma_africa_anos_total = africa_anos_total.sum()\n",
    "\n",
    "soma_africa_total = soma_africa_anos1 + soma_africa_anos2"
   ]
  },
  {
   "cell_type": "code",
   "execution_count": 1,
   "metadata": {
    "scrolled": true
   },
   "outputs": [
    {
     "ename": "NameError",
     "evalue": "name 'africa_anos_total' is not defined",
     "output_type": "error",
     "traceback": [
      "\u001b[1;31m---------------------------------------------------------------------------\u001b[0m",
      "\u001b[1;31mNameError\u001b[0m                                 Traceback (most recent call last)",
      "\u001b[1;32m<ipython-input-1-8c51fa0e7216>\u001b[0m in \u001b[0;36m<module>\u001b[1;34m\u001b[0m\n\u001b[1;32m----> 1\u001b[1;33m \u001b[0mafrica_anos_total\u001b[0m\u001b[1;33m.\u001b[0m\u001b[0mloc\u001b[0m\u001b[1;33m[\u001b[0m\u001b[1;33m:\u001b[0m\u001b[1;33m,\u001b[0m \u001b[1;34m\"AF_AUS\"\u001b[0m\u001b[1;33m]\u001b[0m \u001b[1;33m=\u001b[0m \u001b[1;36m0\u001b[0m\u001b[1;33m\u001b[0m\u001b[1;33m\u001b[0m\u001b[0m\n\u001b[0m\u001b[0;32m      2\u001b[0m \u001b[0mafrica_anos_total\u001b[0m\u001b[1;33m.\u001b[0m\u001b[0mloc\u001b[0m\u001b[1;33m[\u001b[0m\u001b[0maf_aus\u001b[0m\u001b[1;33m,\u001b[0m\u001b[1;34m\"AF_AUS\"\u001b[0m\u001b[1;33m]\u001b[0m\u001b[1;33m=\u001b[0m\u001b[1;36m1\u001b[0m\u001b[1;33m\u001b[0m\u001b[1;33m\u001b[0m\u001b[0m\n\u001b[0;32m      3\u001b[0m \u001b[1;33m\u001b[0m\u001b[0m\n\u001b[0;32m      4\u001b[0m \u001b[0mafrica_anos_total\u001b[0m\u001b[1;33m.\u001b[0m\u001b[0mloc\u001b[0m\u001b[1;33m[\u001b[0m\u001b[1;33m:\u001b[0m\u001b[1;33m,\u001b[0m \u001b[1;34m\"AF_NAO_AUS\"\u001b[0m\u001b[1;33m]\u001b[0m \u001b[1;33m=\u001b[0m \u001b[1;36m0\u001b[0m\u001b[1;33m\u001b[0m\u001b[1;33m\u001b[0m\u001b[0m\n\u001b[0;32m      5\u001b[0m \u001b[0mafrica_anos_total\u001b[0m\u001b[1;33m.\u001b[0m\u001b[0mloc\u001b[0m\u001b[1;33m[\u001b[0m\u001b[0maf_nao_aus\u001b[0m\u001b[1;33m,\u001b[0m\u001b[1;34m\"AF_NAO_AUS\"\u001b[0m\u001b[1;33m]\u001b[0m\u001b[1;33m=\u001b[0m\u001b[1;36m1\u001b[0m\u001b[1;33m\u001b[0m\u001b[1;33m\u001b[0m\u001b[0m\n",
      "\u001b[1;31mNameError\u001b[0m: name 'africa_anos_total' is not defined"
     ]
    }
   ],
   "source": [
    "africa_anos_total.loc[:, \"AF_AUS\"] = 0\n",
    "africa_anos_total.loc[af_aus,\"AF_AUS\"]=1\n",
    "\n",
    "africa_anos_total.loc[:, \"AF_NAO_AUS\"] = 0\n",
    "africa_anos_total.loc[af_nao_aus,\"AF_NAO_AUS\"]=1\n",
    "\n",
    "africa_anos_total  #Imprime todos os paises da África no período de tempo selecionado e indica quais\n",
    "#                   sao da SADC e quais não são"
   ]
  },
  {
   "cell_type": "code",
   "execution_count": 42,
   "metadata": {},
   "outputs": [
    {
     "data": {
      "image/png": "[encoded data removed]",
      "text/plain": [
       "<Figure size 432x288 with 1 Axes>"
      ]
     },
     "metadata": {
      "needs_background": "light"
     },
     "output_type": "display_data"
    }
   ],
   "source": [
    "plt.plot(anos_1, soma_africa_anos1, label=\"ÁFRICA (total)\")\n",
    "plt.plot(anos_1, soma_aus_anos1, label=\"SADC\")\n",
    "plt.plot(anos_1, soma_nao_aus_anos1, label=\"Não SADC\")\n",
    "plt.xlabel(\"anos\")\n",
    "plt.ylabel(\"PIB\")\n",
    "plt.title(\"PIB de 1970 até 1991\")\n",
    "plt.legend()\n",
    "plt.show()"
   ]
  },
  {
   "cell_type": "code",
   "execution_count": 43,
   "metadata": {
    "scrolled": true
   },
   "outputs": [
    {
     "data": {
      "image/png": "[encoded data removed]",
      "text/plain": [
       "<Figure size 432x288 with 1 Axes>"
      ]
     },
     "metadata": {
      "needs_background": "light"
     },
     "output_type": "display_data"
    }
   ],
   "source": [
    "#SOMA AFRICA TOTAL (ANOS 2 + ANOS1) TA DANDO NAN\n",
    "\n",
    "plt.plot(anos_2, soma_africa_anos2, label=\"ÁFRICA (total)\")\n",
    "plt.plot(anos_2, soma_aus_anos2, label=\"SADC\")\n",
    "plt.plot(anos_2, soma_nao_aus_anos2, label=\"Não SADC\")  # soma_aus e soma_nao_aus tao dando os mesmos valores!\n",
    "plt.xlabel(\"anos\")\n",
    "plt.ylabel(\"PIB\")\n",
    "plt.title(\"PIB de 1992 até 2012\")\n",
    "plt.legend()\n",
    "plt.show()"
   ]
  },
  {
   "cell_type": "code",
   "execution_count": 28,
   "metadata": {},
   "outputs": [
    {
     "data": {
      "image/png": "[encoded data removed]",
      "text/plain": [
       "<Figure size 432x288 with 1 Axes>"
      ]
     },
     "metadata": {
      "needs_background": "light"
     },
     "output_type": "display_data"
    }
   ],
   "source": [
    "#plt.plot(anos_2, soma_africa_anos2, label=\"ÁFRICA após (total)\") -- com a divisao \n",
    "#plt.plot(anos_1, soma_africa_anos1, label=\"ÁFRICA antes (total)\") -- com a divisao\n",
    "#plt.plot(anos_2, soma_aus_anos2, label=\"SADC após\") -- com a divisao\n",
    "#plt.plot(anos_1, soma_aus_anos1, label=\"SADC antes\") -- com a divisao\n",
    "#plt.plot(anos_2, soma_nao_aus_anos2, label=\"Não SADC após\") -- com a divisao\n",
    "#plt.plot(anos_1, soma_nao_aus_anos1, label=\"Não SADC antes\") -- com a divisao\n",
    "plt.plot(anos, soma_africa_anos_total, label=\"África (total)\")\n",
    "plt.plot(anos, soma_aus_anos_total, label=\"SADC (total)\" )\n",
    "plt.plot(anos, soma_nao_aus_anos_total, label=\"NÃO SADC (total)\")\n",
    "plt.xlabel(\"anos\")\n",
    "plt.ylabel(\"PIB\")\n",
    "plt.title(\"PIB de 1970 até 2012\")\n",
    "plt.legend()\n",
    "plt.show()\n",
    "\n",
    "# ISSO É COMO O GRÁFICO DO TOTAL (CÉLULA DE BAIXO) DEVE PARECER >> fiz o total com o intervalo de tempo maior\n",
    "# Divisão: entre os dois intervalos de tempo definidos (com uma \"falha\" no gráfico)-- a falha é intencional!"
   ]
  },
  {
   "cell_type": "code",
   "execution_count": 30,
   "metadata": {},
   "outputs": [
    {
     "name": "stdout",
     "output_type": "stream",
     "text": [
      "PIB total dos países da SADC de 1971 à 1991\n"
     ]
    },
    {
     "data": {
      "text/plain": [
       "394528142857.1429"
      ]
     },
     "execution_count": 30,
     "metadata": {},
     "output_type": "execute_result"
    }
   ],
   "source": [
    "dados_af_aus1 = africa_anos1.loc[af_aus]\n",
    "print('PIB total dos países da SADC de 1971 à 1991')\n",
    "dados_af_aus1.sum().sum() / 14"
   ]
  },
  {
   "cell_type": "code",
   "execution_count": 31,
   "metadata": {},
   "outputs": [
    {
     "name": "stdout",
     "output_type": "stream",
     "text": [
      "PIB total dos países da SADC de 1992 à 2012\n"
     ]
    },
    {
     "data": {
      "text/plain": [
       "679862857142.8572"
      ]
     },
     "execution_count": 31,
     "metadata": {},
     "output_type": "execute_result"
    }
   ],
   "source": [
    "dados_af_aus2 = africa_anos2.loc[af_aus]\n",
    "print('PIB total dos países da SADC de 1992 à 2012')\n",
    "dados_af_aus2.sum().sum() / 14"
   ]
  },
  {
   "cell_type": "code",
   "execution_count": 32,
   "metadata": {},
   "outputs": [
    {
     "name": "stdout",
     "output_type": "stream",
     "text": [
      "Diferença por pais entre os intervalos de tempo dos paises da SADC\n"
     ]
    },
    {
     "data": {
      "text/plain": [
       "285334714285.7143"
      ]
     },
     "execution_count": 32,
     "metadata": {},
     "output_type": "execute_result"
    }
   ],
   "source": [
    "print('Diferença por pais entre os intervalos de tempo dos paises da SADC')\n",
    "(dados_af_aus2.sum().sum() - dados_af_aus1.sum().sum()) / 14\n",
    "#FAZER EM PORCENTAGEM !!!! (O AUMENTO PERCENTUAL) -- OU FAZER A MÉDIA DE CADA E O AUMENTO PERCENTUAL DA MÉDIA!!!"
   ]
  },
  {
   "cell_type": "code",
   "execution_count": 33,
   "metadata": {},
   "outputs": [
    {
     "name": "stdout",
     "output_type": "stream",
     "text": [
      "PIB total dos países da áfrica que não são da SADC de 1971 à 1991\n"
     ]
    },
    {
     "data": {
      "text/plain": [
       "165056629629.62964"
      ]
     },
     "execution_count": 33,
     "metadata": {},
     "output_type": "execute_result"
    }
   ],
   "source": [
    "dados_af_nao_aus1 = africa_anos1.loc[af_nao_aus]\n",
    "print('PIB total dos países da áfrica que não são da SADC de 1971 à 1991')\n",
    "dados_af_nao_aus1.sum().sum() / 27"
   ]
  },
  {
   "cell_type": "code",
   "execution_count": 34,
   "metadata": {},
   "outputs": [
    {
     "name": "stdout",
     "output_type": "stream",
     "text": [
      "PIB total dos países da áfrica que não são da SADC de 1992 à 2012\n"
     ]
    },
    {
     "data": {
      "text/plain": [
       "328766962962.96295"
      ]
     },
     "execution_count": 34,
     "metadata": {},
     "output_type": "execute_result"
    }
   ],
   "source": [
    "dados_af_nao_aus2 = africa_anos2.loc[af_nao_aus]\n",
    "print('PIB total dos países da áfrica que não são da SADC de 1992 à 2012')\n",
    "dados_af_nao_aus2.sum().sum() / 27"
   ]
  },
  {
   "cell_type": "code",
   "execution_count": 35,
   "metadata": {},
   "outputs": [
    {
     "name": "stdout",
     "output_type": "stream",
     "text": [
      "Diferenca por pais entre os intervalos de tempo dos paises da áfrica que nao fazem parte da SADC\n"
     ]
    },
    {
     "data": {
      "text/plain": [
       "163710333333.33334"
      ]
     },
     "execution_count": 35,
     "metadata": {},
     "output_type": "execute_result"
    }
   ],
   "source": [
    "print('Diferenca por pais entre os intervalos de tempo dos paises da áfrica que nao fazem parte da SADC')\n",
    "(dados_af_nao_aus2.sum().sum() - dados_af_nao_aus1.sum().sum()) / 27"
   ]
  },
  {
   "cell_type": "code",
   "execution_count": 36,
   "metadata": {},
   "outputs": [],
   "source": [
    "#OBS: O af_nao_aus tem praticamente o dobro de paises que o af_aus! tem que arranjar um jeito de ser proporcional!\n",
    "# --- fazer a média? (é eficiente?  / o melhor jeito?)"
   ]
  },
  {
   "cell_type": "markdown",
   "metadata": {},
   "source": [
    "## Conclusão"
   ]
  },
  {
   "cell_type": "markdown",
   "metadata": {},
   "source": [
    "Responda à pergunta, argumento da melhor forma possível com base nos dados"
   ]
  },
  {
   "cell_type": "markdown",
   "metadata": {},
   "source": [
    "> A ser respondida de acordo com a progressão do projeto!"
   ]
  }
 ],
 "metadata": {
  "kernelspec": {
   "display_name": "Python 3",
   "language": "python",
   "name": "python3"
  },
  "language_info": {
   "codemirror_mode": {
    "name": "ipython",
    "version": 3
   },
   "file_extension": ".py",
   "mimetype": "text/x-python",
   "name": "python",
   "nbconvert_exporter": "python",
   "pygments_lexer": "ipython3",
   "version": "3.7.1"
  }
 },
 "nbformat": 4,
 "nbformat_minor": 2
}
